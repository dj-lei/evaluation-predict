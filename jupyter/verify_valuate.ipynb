{
 "cells": [
  {
   "cell_type": "code",
   "execution_count": 1,
   "metadata": {},
   "outputs": [],
   "source": [
    "import os\n",
    "import gc\n",
    "import re\n",
    "import sys\n",
    "import time\n",
    "import json\n",
    "import math\n",
    "import random\n",
    "import datetime\n",
    "import traceback\n",
    "import pickle\n",
    "import pandas as pd\n",
    "import numpy as np"
   ]
  },
  {
   "cell_type": "markdown",
   "metadata": {},
   "source": [
    "## 将标准库的全款型生成测试环境验证用csv"
   ]
  },
  {
   "cell_type": "code",
   "execution_count": 3,
   "metadata": {},
   "outputs": [
    {
     "name": "stdout",
     "output_type": "stream",
     "text": [
      "<class 'pandas.core.frame.DataFrame'>\n",
      "RangeIndex: 34582 entries, 0 to 34581\n",
      "Data columns (total 6 columns):\n",
      "detail_model_slug    34582 non-null object\n",
      "year                 34582 non-null int64\n",
      "city                 34582 non-null object\n",
      "used_years           34582 non-null int64\n",
      "month                34582 non-null int64\n",
      "mile                 34582 non-null int64\n",
      "dtypes: int64(4), object(2)\n",
      "memory usage: 1.6+ MB\n"
     ]
    }
   ],
   "source": [
    "def process_date(df):\n",
    "    used_years = datetime.datetime.now().year - df['year']\n",
    "    if used_years < 0:\n",
    "        return pd.Series([0, datetime.datetime.now().month])\n",
    "    return pd.Series([used_years, 3])\n",
    "\n",
    "def process_mile(df):\n",
    "    return df['used_years'] * 2\n",
    "\n",
    "combine_detail = pd.read_csv('../tmp/train/combine_detail.csv',low_memory=False)\n",
    "province_city_map = pd.read_csv('../tmp/train/province_city_map.csv')\n",
    "cities = list(province_city_map.city.values)\n",
    "combine_detail = combine_detail.loc[:, ['detail_model_slug','year']]\n",
    "city = []\n",
    "for i in range(0, int(len(combine_detail)/len(cities))):\n",
    "    city.extend(cities)\n",
    "combine_detail['city'] = pd.Series(city)\n",
    "combine_detail['city'] = combine_detail['city'].fillna('成都')\n",
    "combine_detail['used_years'] = np.NaN\n",
    "combine_detail['month'] = np.NaN\n",
    "combine_detail['mile'] = np.NaN\n",
    "combine_detail[['used_years','month']] = combine_detail.apply(process_date, axis=1)\n",
    "combine_detail.loc[(combine_detail['year'] > datetime.datetime.now().year), 'year'] = datetime.datetime.now().year\n",
    "combine_detail['mile'] = combine_detail.apply(process_mile, axis=1)\n",
    "combine_detail.to_csv('../script/verify.csv', index=False)\n",
    "combine_detail.info()"
   ]
  },
  {
   "cell_type": "code",
   "execution_count": 18,
   "metadata": {},
   "outputs": [
    {
     "data": {
      "text/html": [
       "<div>\n",
       "<style scoped>\n",
       "    .dataframe tbody tr th:only-of-type {\n",
       "        vertical-align: middle;\n",
       "    }\n",
       "\n",
       "    .dataframe tbody tr th {\n",
       "        vertical-align: top;\n",
       "    }\n",
       "\n",
       "    .dataframe thead th {\n",
       "        text-align: right;\n",
       "    }\n",
       "</style>\n",
       "<table border=\"1\" class=\"dataframe\">\n",
       "  <thead>\n",
       "    <tr style=\"text-align: right;\">\n",
       "      <th></th>\n",
       "      <th>detail_model_slug</th>\n",
       "      <th>year</th>\n",
       "      <th>city</th>\n",
       "      <th>used_years</th>\n",
       "      <th>month</th>\n",
       "      <th>mile</th>\n",
       "    </tr>\n",
       "  </thead>\n",
       "  <tbody>\n",
       "    <tr>\n",
       "      <th>0</th>\n",
       "      <td>model_25023_cs</td>\n",
       "      <td>2012</td>\n",
       "      <td>北京</td>\n",
       "      <td>6</td>\n",
       "      <td>3</td>\n",
       "      <td>12</td>\n",
       "    </tr>\n",
       "    <tr>\n",
       "      <th>1</th>\n",
       "      <td>model_15554_cs</td>\n",
       "      <td>2012</td>\n",
       "      <td>七台河</td>\n",
       "      <td>6</td>\n",
       "      <td>3</td>\n",
       "      <td>12</td>\n",
       "    </tr>\n",
       "    <tr>\n",
       "      <th>2</th>\n",
       "      <td>model_28145_cs</td>\n",
       "      <td>2013</td>\n",
       "      <td>伊春</td>\n",
       "      <td>5</td>\n",
       "      <td>3</td>\n",
       "      <td>10</td>\n",
       "    </tr>\n",
       "    <tr>\n",
       "      <th>3</th>\n",
       "      <td>model_26127_cs</td>\n",
       "      <td>2013</td>\n",
       "      <td>佳木斯</td>\n",
       "      <td>5</td>\n",
       "      <td>3</td>\n",
       "      <td>10</td>\n",
       "    </tr>\n",
       "    <tr>\n",
       "      <th>4</th>\n",
       "      <td>model_25573_cs</td>\n",
       "      <td>2011</td>\n",
       "      <td>双鸭山</td>\n",
       "      <td>7</td>\n",
       "      <td>3</td>\n",
       "      <td>14</td>\n",
       "    </tr>\n",
       "  </tbody>\n",
       "</table>\n",
       "</div>"
      ],
      "text/plain": [
       "  detail_model_slug  year city  used_years  month  mile\n",
       "0    model_25023_cs  2012   北京           6      3    12\n",
       "1    model_15554_cs  2012  七台河           6      3    12\n",
       "2    model_28145_cs  2013   伊春           5      3    10\n",
       "3    model_26127_cs  2013  佳木斯           5      3    10\n",
       "4    model_25573_cs  2011  双鸭山           7      3    14"
      ]
     },
     "execution_count": 18,
     "metadata": {},
     "output_type": "execute_result"
    }
   ],
   "source": [
    "verify = pd.read_csv('../script/verify.csv')\n",
    "verify.head()"
   ]
  }
 ],
 "metadata": {
  "hide_input": false,
  "kernelspec": {
   "display_name": "Python 3",
   "language": "python",
   "name": "python3"
  },
  "language_info": {
   "codemirror_mode": {
    "name": "ipython",
    "version": 3
   },
   "file_extension": ".py",
   "mimetype": "text/x-python",
   "name": "python",
   "nbconvert_exporter": "python",
   "pygments_lexer": "ipython3",
   "version": "3.5.2"
  }
 },
 "nbformat": 4,
 "nbformat_minor": 2
}
