{
 "cells": [
  {
   "cell_type": "code",
   "execution_count": 1,
   "metadata": {},
   "outputs": [],
   "source": [
    "import os\n",
    "import gc\n",
    "import re\n",
    "import sys\n",
    "import time\n",
    "import json\n",
    "import math\n",
    "import random\n",
    "import datetime\n",
    "import traceback\n",
    "import pickle\n",
    "import pandas as pd\n",
    "import numpy as np"
   ]
  },
  {
   "cell_type": "markdown",
   "metadata": {},
   "source": [
    "## 将标准库的全款型生成测试环境验证用csv"
   ]
  },
  {
   "cell_type": "code",
   "execution_count": 14,
   "metadata": {},
   "outputs": [
    {
     "name": "stdout",
     "output_type": "stream",
     "text": [
      "<class 'pandas.core.frame.DataFrame'>\n",
      "RangeIndex: 31455 entries, 0 to 31454\n",
      "Data columns (total 5 columns):\n",
      "detail_model_slug    31455 non-null object\n",
      "year                 31455 non-null int64\n",
      "used_years           31455 non-null int64\n",
      "month                31455 non-null int64\n",
      "mile                 31455 non-null int64\n",
      "dtypes: int64(4), object(1)\n",
      "memory usage: 1.2+ MB\n"
     ]
    }
   ],
   "source": [
    "def process_date(df):\n",
    "    used_years = datetime.datetime.now().year - df['year']\n",
    "    if used_years < 0:\n",
    "        return pd.Series([0, datetime.datetime.now().month])\n",
    "    return pd.Series([used_years, 3])\n",
    "\n",
    "def process_mile(df):\n",
    "    return df['used_years'] * 2\n",
    "\n",
    "combine_detail = pd.read_csv('../tmp/train/combine_detail.csv')\n",
    "combine_detail = combine_detail.loc[:, ['detail_model_slug','year']]\n",
    "combine_detail['used_years'] = np.NaN\n",
    "combine_detail['month'] = np.NaN\n",
    "combine_detail['mile'] = np.NaN\n",
    "combine_detail[['used_years','month']] = combine_detail.apply(process_date, axis=1)\n",
    "combine_detail.loc[(combine_detail['year'] > datetime.datetime.now().year), 'year'] = datetime.datetime.now().year\n",
    "combine_detail['mile'] = combine_detail.apply(process_mile, axis=1)\n",
    "combine_detail.to_csv('../script/verify.csv', index=False)\n",
    "combine_detail.info()"
   ]
  },
  {
   "cell_type": "code",
   "execution_count": 16,
   "metadata": {},
   "outputs": [
    {
     "data": {
      "text/html": [
       "<div>\n",
       "<style scoped>\n",
       "    .dataframe tbody tr th:only-of-type {\n",
       "        vertical-align: middle;\n",
       "    }\n",
       "\n",
       "    .dataframe tbody tr th {\n",
       "        vertical-align: top;\n",
       "    }\n",
       "\n",
       "    .dataframe thead th {\n",
       "        text-align: right;\n",
       "    }\n",
       "</style>\n",
       "<table border=\"1\" class=\"dataframe\">\n",
       "  <thead>\n",
       "    <tr style=\"text-align: right;\">\n",
       "      <th></th>\n",
       "      <th>detail_model_slug</th>\n",
       "      <th>year</th>\n",
       "      <th>used_years</th>\n",
       "      <th>month</th>\n",
       "      <th>mile</th>\n",
       "    </tr>\n",
       "  </thead>\n",
       "  <tbody>\n",
       "    <tr>\n",
       "      <th>0</th>\n",
       "      <td>model_25023_cs</td>\n",
       "      <td>2012</td>\n",
       "      <td>6</td>\n",
       "      <td>3</td>\n",
       "      <td>12</td>\n",
       "    </tr>\n",
       "    <tr>\n",
       "      <th>1</th>\n",
       "      <td>model_15554_cs</td>\n",
       "      <td>2012</td>\n",
       "      <td>6</td>\n",
       "      <td>3</td>\n",
       "      <td>12</td>\n",
       "    </tr>\n",
       "    <tr>\n",
       "      <th>2</th>\n",
       "      <td>model_28145_cs</td>\n",
       "      <td>2013</td>\n",
       "      <td>5</td>\n",
       "      <td>3</td>\n",
       "      <td>10</td>\n",
       "    </tr>\n",
       "    <tr>\n",
       "      <th>3</th>\n",
       "      <td>model_26127_cs</td>\n",
       "      <td>2013</td>\n",
       "      <td>5</td>\n",
       "      <td>3</td>\n",
       "      <td>10</td>\n",
       "    </tr>\n",
       "    <tr>\n",
       "      <th>4</th>\n",
       "      <td>model_25573_cs</td>\n",
       "      <td>2011</td>\n",
       "      <td>7</td>\n",
       "      <td>3</td>\n",
       "      <td>14</td>\n",
       "    </tr>\n",
       "  </tbody>\n",
       "</table>\n",
       "</div>"
      ],
      "text/plain": [
       "  detail_model_slug  year  used_years  month  mile\n",
       "0    model_25023_cs  2012           6      3    12\n",
       "1    model_15554_cs  2012           6      3    12\n",
       "2    model_28145_cs  2013           5      3    10\n",
       "3    model_26127_cs  2013           5      3    10\n",
       "4    model_25573_cs  2011           7      3    14"
      ]
     },
     "execution_count": 16,
     "metadata": {},
     "output_type": "execute_result"
    }
   ],
   "source": [
    "verify = pd.read_csv('../script/verify.csv')\n",
    "verify.head()"
   ]
  },
  {
   "cell_type": "code",
   "execution_count": null,
   "metadata": {},
   "outputs": [],
   "source": []
  }
 ],
 "metadata": {
  "hide_input": false,
  "kernelspec": {
   "display_name": "Python 3",
   "language": "python",
   "name": "python3"
  },
  "language_info": {
   "codemirror_mode": {
    "name": "ipython",
    "version": 3
   },
   "file_extension": ".py",
   "mimetype": "text/x-python",
   "name": "python",
   "nbconvert_exporter": "python",
   "pygments_lexer": "ipython3",
   "version": "3.5.2"
  }
 },
 "nbformat": 4,
 "nbformat_minor": 2
}
