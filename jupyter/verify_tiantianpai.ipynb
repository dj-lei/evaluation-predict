{
 "cells": [
  {
   "cell_type": "code",
   "execution_count": 1,
   "metadata": {},
   "outputs": [],
   "source": [
    "import math\n",
    "import datetime\n",
    "import pandas as pd"
   ]
  },
  {
   "cell_type": "code",
   "execution_count": 2,
   "metadata": {},
   "outputs": [],
   "source": [
    "CAR_CONDITION_COEFFICIENT = {'excellent': 1.04, 'good': 1, 'fair': 0.95, 'bad': 0.89}\n",
    "\n",
    "def cal_profit_rate(df):\n",
    "    temp = df['adjust_sell_price']\n",
    "    for i in range(0, 10000):\n",
    "        buy = temp + i*0.03\n",
    "        rate = 0.34 * math.e ** (-0.6 * math.log(buy, math.e))\n",
    "        if rate <= 0.101:\n",
    "            rate = 0.101\n",
    "        div = df['adjust_sell_price'] - buy * (1-rate)\n",
    "        if div > 0 :\n",
    "            continue\n",
    "        else:\n",
    "            return buy\n",
    "        \n",
    "def adjust_condition(df):\n",
    "    # 车况判断两年以内优秀,8-3年良好,9-11年一般,12年以上较差\n",
    "    used_years = df['used_years']\n",
    "    if used_years <= 2:\n",
    "        condition = 'excellent'\n",
    "    elif 2 < used_years <= 8:\n",
    "        condition = 'good'\n",
    "    elif 8 < used_years <= 11:\n",
    "        condition = 'fair'\n",
    "    elif 11 < used_years:\n",
    "        condition = 'bad'\n",
    "        \n",
    "    if condition != df['condition']:\n",
    "        return float('%.2f' % ((df['adjust_buy_price'] / CAR_CONDITION_COEFFICIENT[df['condition']]) * CAR_CONDITION_COEFFICIENT[condition]))\n",
    "    return float('%.2f' % (df['adjust_buy_price']))\n",
    "\n",
    "tiantianpai = pd.read_csv('../script/man.csv')\n",
    "warehouse_k = pd.read_csv('../tmp/train/div_warehouse_k_param.csv')\n",
    "div_price_bn_k_param = pd.read_csv('../tmp/train/div_price_bn_k_param.csv')\n",
    "\n",
    "car_autohome_all = pd.read_csv('../tmp/train/car_autohome_all.csv')\n",
    "car_autohome_all = car_autohome_all.sort_values(by=['brand_slug', 'model_slug', 'online_year', 'price_bn']).reset_index(drop=True)\n",
    "car_autohome_all['used_years'] = datetime.datetime.now().year - car_autohome_all['online_year']\n",
    "car_autohome_all.loc[(car_autohome_all['used_years'] < 0), 'used_years'] = 0\n",
    "\n",
    "global_model_mean_temp = pd.read_csv('../tmp/train/global_model_mean_temp.csv').rename(columns={'detail_model_slug':'gpj_detail_slug'})\n",
    "tiantianpai = tiantianpai.loc[:, ['title','year','month','mile','condition','city','price','gpj_detail_slug','brand_name','model_name','detail_name','online_year','new_sell_price','new_buy_price']]\n",
    "tiantianpai = tiantianpai.merge(global_model_mean_temp.loc[:,['gpj_detail_slug','brand_slug','model_slug','price_bn','detail_slug']],how='left',on=['gpj_detail_slug'])\n",
    "tiantianpai['used_years'] = datetime.datetime.now().year - tiantianpai['online_year']\n",
    "tiantianpai.loc[(tiantianpai['used_years'] < 0), 'used_years'] = 0\n",
    "# 调整车龄差异\n",
    "k = 0.028\n",
    "tiantianpai['warehouse_year'] = tiantianpai['year'] - tiantianpai['online_year']\n",
    "tiantianpai['adjust_sell_price'] = tiantianpai['price'] / (k * tiantianpai['warehouse_year'] + 1)\n",
    "\n",
    "# 调整收购价和零售价\n",
    "tiantianpai['adjust_buy_price'] = tiantianpai.apply(cal_profit_rate, axis=1)\n",
    "\n",
    "# 调整车况\n",
    "tiantianpai['adjust_buy_price'] = tiantianpai.apply(adjust_condition, axis=1)\n",
    "# 根据款型计算中位数\n",
    "median_price = tiantianpai.groupby(['brand_slug', 'brand_name', 'model_slug', 'model_name', 'detail_slug', 'online_year', 'price_bn'])['adjust_buy_price'].median().reset_index().rename(columns={'adjust_buy_price': 'median_price'})\n",
    "median_price = median_price.sort_values(by=['brand_slug', 'model_slug', 'online_year', 'price_bn']).reset_index(drop=True)"
   ]
  },
  {
   "cell_type": "code",
   "execution_count": 3,
   "metadata": {},
   "outputs": [],
   "source": [
    "# 取低配数据\n",
    "low_config_car = median_price.loc[median_price.groupby(['brand_slug', 'model_slug', 'online_year']).price_bn.idxmin(), :].reset_index(drop=True)\n",
    "low_config_car = low_config_car.drop_duplicates(['model_slug', 'online_year']).reset_index(drop=True)\n",
    "\n",
    "# 调整指导价差,确保同条件下高配比低配价格高\n",
    "part1 = pd.DataFrame()\n",
    "for model_slug, online_year in low_config_car.loc[:, ['model_slug', 'online_year']].values:\n",
    "    car_autohome_temp = car_autohome_all.loc[(car_autohome_all['model_slug'] == model_slug)&(car_autohome_all['online_year'] == online_year), :].reset_index(drop=True)\n",
    "    car_autohome_temp = car_autohome_temp.merge(median_price.loc[:, ['detail_slug', 'median_price']], how='left', on=['detail_slug'])\n",
    "    low_config_price, price_bn = car_autohome_temp.loc[(car_autohome_temp['median_price'].notnull()), ['median_price', 'price_bn']].values[0]\n",
    "    used_years = car_autohome_temp.loc[0, 'used_years']\n",
    "    k = div_price_bn_k_param.loc[(div_price_bn_k_param['used_years'] == used_years), ['k']].values[0]\n",
    "    for i in range(0, len(car_autohome_temp)):\n",
    "        car_autohome_temp.loc[i, 'median_price'] = float('%.2f' % ((car_autohome_temp.loc[i, 'price_bn'] - price_bn) * k + low_config_price))\n",
    "    part1 = part1.append(car_autohome_temp, sort=False).reset_index(drop=True)"
   ]
  },
  {
   "cell_type": "code",
   "execution_count": 4,
   "metadata": {},
   "outputs": [],
   "source": [
    "def update_price(df, part):\n",
    "    price = part.loc[(part['detail_slug'] == df['detail_slug']), ['median_price']].values\n",
    "    if len(price) != 0:\n",
    "        return price[0][0]\n",
    "    return df['median_price']\n",
    "\n",
    "global_model_mean_temp = pd.read_csv('../tmp/train/global_model_mean_temp.csv')\n",
    "global_model_mean_temp['median_price'] = global_model_mean_temp.apply(update_price,args=(part1,), axis=1)\n",
    "global_model_mean_temp.to_csv('../tmp/train/global_model_mean_temp.csv', index=False)"
   ]
  },
  {
   "cell_type": "code",
   "execution_count": null,
   "metadata": {},
   "outputs": [],
   "source": []
  }
 ],
 "metadata": {
  "hide_input": false,
  "kernelspec": {
   "display_name": "Python 3",
   "language": "python",
   "name": "python3"
  },
  "language_info": {
   "codemirror_mode": {
    "name": "ipython",
    "version": 3
   },
   "file_extension": ".py",
   "mimetype": "text/x-python",
   "name": "python",
   "nbconvert_exporter": "python",
   "pygments_lexer": "ipython3",
   "version": "3.5.2"
  }
 },
 "nbformat": 4,
 "nbformat_minor": 2
}
