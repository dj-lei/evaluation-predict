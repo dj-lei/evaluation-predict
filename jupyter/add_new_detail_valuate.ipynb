{
 "cells": [
  {
   "cell_type": "code",
   "execution_count": 1,
   "metadata": {},
   "outputs": [],
   "source": [
    "import os\n",
    "import gc\n",
    "import re\n",
    "import sys\n",
    "import time\n",
    "import json\n",
    "import math\n",
    "import random\n",
    "import datetime\n",
    "import traceback\n",
    "import pickle\n",
    "import pandas as pd\n",
    "import numpy as np"
   ]
  },
  {
   "cell_type": "markdown",
   "metadata": {
    "scrolled": true
   },
   "source": [
    "## 一.新款型取低配数据进行人工评估"
   ]
  },
  {
   "cell_type": "code",
   "execution_count": 46,
   "metadata": {},
   "outputs": [],
   "source": [
    "car_autohome_all = pd.read_csv('../tmp/train/car_autohome_all.csv')\n",
    "add_combine_detail = pd.read_csv('../tmp/train/add_combine_detail.csv')\n",
    "\n",
    "car_autohome_all = car_autohome_all.drop(['volume','control','volume_extend','emission_standard'], axis=1)\n",
    "add_combine_detail = car_autohome_all.loc[(car_autohome_all['detail_slug'].isin(list(add_combine_detail.car_autohome_detail_id.values))), :].reset_index(drop=True)\n",
    "add_combine_detail = add_combine_detail.sort_values(by=['brand_slug', 'model_slug', 'online_year', 'price_bn']).reset_index(drop=True)\n",
    "\n",
    "# 取低配数据\n",
    "low_config_car = add_combine_detail.loc[add_combine_detail.groupby(['brand_slug', 'model_slug', 'online_year']).price_bn.idxmin(), :].reset_index(drop=True)\n",
    "low_config_car['used_years'] = datetime.datetime.now().year - low_config_car['online_year']\n",
    "low_config_car.loc[(low_config_car['used_years'] < 0), 'used_years'] = 0\n",
    "low_config_car['median_price'] = np.NaN\n",
    "low_config_car.to_csv('../tmp/train/global_model_mean_part3.csv', index=False)"
   ]
  },
  {
   "cell_type": "code",
   "execution_count": 47,
   "metadata": {},
   "outputs": [
    {
     "name": "stdout",
     "output_type": "stream",
     "text": [
      "<class 'pandas.core.frame.DataFrame'>\n",
      "Int64Index: 117 entries, 0 to 116\n",
      "Data columns (total 13 columns):\n",
      "detail_slug     117 non-null int64\n",
      "brand_name      117 non-null object\n",
      "brand_slug      117 non-null int64\n",
      "model_name      117 non-null object\n",
      "model_slug      117 non-null int64\n",
      "detail_name     117 non-null object\n",
      "manufacturer    117 non-null object\n",
      "price_bn        117 non-null float64\n",
      "body            117 non-null object\n",
      "energy          117 non-null object\n",
      "online_year     117 non-null int64\n",
      "used_years      117 non-null int64\n",
      "median_price    117 non-null float64\n",
      "dtypes: float64(2), int64(5), object(6)\n",
      "memory usage: 12.8+ KB\n"
     ]
    }
   ],
   "source": [
    "global_model_mean_part3 = pd.read_csv('../tmp/train/global_model_mean_part3.csv')\n",
    "global_model_mean_part3 = global_model_mean_part3.drop(['median_price'],axis=1)\n",
    "global_model_mean_part3_copy = pd.read_csv('../tmp/train/global_model_mean_part3 (copy).csv')\n",
    "global_model_mean_part3 = global_model_mean_part3.merge(global_model_mean_part3_copy.loc[:, ['detail_slug','median_price']],how='left',on=['detail_slug'])\n",
    "global_model_mean_part3.to_csv('../tmp/train/global_model_mean_part3.csv', index=False)\n",
    "global_model_mean_part3.info()"
   ]
  },
  {
   "cell_type": "markdown",
   "metadata": {},
   "source": [
    "## 二.依据人工评估评估数据生成新款型估值"
   ]
  },
  {
   "cell_type": "code",
   "execution_count": 28,
   "metadata": {
    "scrolled": true
   },
   "outputs": [
    {
     "name": "stdout",
     "output_type": "stream",
     "text": [
      "原始款型数: 34043\n",
      "新增款型数: 787\n",
      "最终款型数: 34582 实际应为: 34582\n"
     ]
    }
   ],
   "source": [
    "part1 = pd.read_csv('../tmp/train/global_model_mean.csv')\n",
    "low_config_car = pd.read_csv('../tmp/train/global_model_mean_part3.csv')\n",
    "low_config_car['median_price'] = low_config_car['median_price'] / 0.95\n",
    "div_price_bn_k_param = pd.read_csv('../tmp/train/div_price_bn_k_param.csv')\n",
    "combine_detail = pd.read_csv('../tmp/train/combine_detail.csv',low_memory=False)\n",
    "add_combine_detail = pd.read_csv('../tmp/train/add_combine_detail.csv')\n",
    "car_autohome_all = pd.read_csv('../tmp/train/car_autohome_all.csv')\n",
    "car_autohome_all = car_autohome_all.drop(['volume','control','volume_extend','emission_standard'], axis=1)\n",
    "\n",
    "# car_autohome_all = car_autohome_all.loc[(car_autohome_all['detail_slug'].isin(list(add_combine_detail.car_autohome_detail_id.values))), :].reset_index(drop=True)\n",
    "car_autohome_all = car_autohome_all.sort_values(by=['brand_slug', 'model_slug', 'online_year', 'price_bn']).reset_index(drop=True)\n",
    "car_autohome_all['used_years'] = datetime.datetime.now().year - car_autohome_all['online_year']\n",
    "car_autohome_all.loc[(car_autohome_all['used_years'] < 0), 'used_years'] = 0\n",
    "\n",
    "low_config_car = low_config_car.loc[(low_config_car['detail_slug'].isin(list(car_autohome_all.detail_slug.values))), :]\n",
    "\n",
    "# 调整指导价差,确保同条件下高配比低配价格高\n",
    "part2 = pd.DataFrame()\n",
    "for model_slug, online_year in low_config_car.loc[:, ['model_slug', 'online_year']].values:\n",
    "    car_autohome_temp = car_autohome_all.loc[(car_autohome_all['model_slug'] == model_slug)&(car_autohome_all['online_year'] == online_year), :].reset_index(drop=True)\n",
    "    car_autohome_temp = car_autohome_temp.merge(low_config_car.loc[:, ['detail_slug', 'median_price']], how='left', on=['detail_slug'])\n",
    "    low_config_price, price_bn = car_autohome_temp.loc[(car_autohome_temp['median_price'].notnull()), ['median_price', 'price_bn']].values[0]\n",
    "    used_years = car_autohome_temp.loc[0, 'used_years']\n",
    "    k = div_price_bn_k_param.loc[(div_price_bn_k_param['used_years'] == used_years), ['k']].values[0]\n",
    "    for i in range(0, len(car_autohome_temp)):\n",
    "        car_autohome_temp.loc[i, 'median_price'] = float('%.2f' % ((car_autohome_temp.loc[i, 'price_bn'] - price_bn) * k + low_config_price))\n",
    "    part2 = part2.append(car_autohome_temp, sort=False).reset_index(drop=True)\n",
    "\n",
    "print('原始款型数:', len(part1))\n",
    "part1 = part1.loc[~(part1['detail_slug'].isin(list(set(add_combine_detail.car_autohome_detail_id.values)))), :]\n",
    "part2 = part2.merge(combine_detail.loc[:, ['detail_model_slug', 'car_autohome_detail_id']].rename(columns={'car_autohome_detail_id':'detail_slug'}), how='left', on=['detail_slug'])\n",
    "part2 = part2.loc[(part2['detail_model_slug'].notnull()), :]\n",
    "global_model_mean = part1.append(part2, sort=False).reset_index(drop=True)\n",
    "print('新增款型数:', len(add_combine_detail))\n",
    "print('最终款型数:', len(global_model_mean), '实际应为:', len(combine_detail))\n",
    "global_model_mean.to_csv('../tmp/train/global_model_mean.csv', index=False)"
   ]
  },
  {
   "cell_type": "code",
   "execution_count": 39,
   "metadata": {},
   "outputs": [
    {
     "name": "stdout",
     "output_type": "stream",
     "text": [
      "最终品牌数: 182\n",
      "最终车系数: 1851\n",
      "最终款型数: 34582\n"
     ]
    }
   ],
   "source": [
    "combine_brand = pd.read_csv('../tmp/train/combine_brand.csv',low_memory=False)\n",
    "combine_brand = combine_brand.loc[:, ['name','slug']].rename(columns={'slug':'parent','name':'brand_name'})\n",
    "combine_model = pd.read_csv('../tmp/train/combine_model.csv',low_memory=False)\n",
    "combine_model = combine_model.merge(combine_brand,how='left',on=['parent'])\n",
    "combine_model = combine_model.loc[:, ['slug','name','parent','brand_name']].rename(columns={'slug':'global_slug','name':'model_name','parent':'brand_slug'})\n",
    "combine_detail = pd.read_csv('../tmp/train/combine_detail.csv',low_memory=False)\n",
    "combine_detail = combine_detail.merge(combine_model,how='left',on=['global_slug'])\n",
    "print('最终品牌数:',len(list(set(combine_detail.brand_slug.values))))\n",
    "print('最终车系数:',len(list(set(combine_detail.global_slug.values))))\n",
    "print('最终款型数:',len(list(set(combine_detail.detail_model_slug.values))))"
   ]
  },
  {
   "cell_type": "code",
   "execution_count": 40,
   "metadata": {},
   "outputs": [
    {
     "name": "stdout",
     "output_type": "stream",
     "text": [
      "<class 'pandas.core.frame.DataFrame'>\n",
      "RangeIndex: 34582 entries, 0 to 34581\n",
      "Data columns (total 15 columns):\n",
      "detail_slug          34582 non-null int64\n",
      "brand_name           34582 non-null object\n",
      "brand_slug           34582 non-null int64\n",
      "model_name           34582 non-null object\n",
      "model_slug           34582 non-null int64\n",
      "detail_name          34582 non-null object\n",
      "manufacturer         34582 non-null object\n",
      "price_bn             34582 non-null float64\n",
      "body                 34582 non-null object\n",
      "energy               34582 non-null object\n",
      "online_year          34582 non-null int64\n",
      "used_years           34582 non-null int64\n",
      "median_price         34582 non-null float64\n",
      "listed_year          11943 non-null float64\n",
      "detail_model_slug    34582 non-null object\n",
      "dtypes: float64(3), int64(5), object(7)\n",
      "memory usage: 4.0+ MB\n"
     ]
    }
   ],
   "source": [
    "global_model_mean.info()"
   ]
  },
  {
   "cell_type": "code",
   "execution_count": null,
   "metadata": {},
   "outputs": [],
   "source": []
  }
 ],
 "metadata": {
  "hide_input": false,
  "kernelspec": {
   "display_name": "Python 3",
   "language": "python",
   "name": "python3"
  },
  "language_info": {
   "codemirror_mode": {
    "name": "ipython",
    "version": 3
   },
   "file_extension": ".py",
   "mimetype": "text/x-python",
   "name": "python",
   "nbconvert_exporter": "python",
   "pygments_lexer": "ipython3",
   "version": "3.5.2"
  }
 },
 "nbformat": 4,
 "nbformat_minor": 2
}
