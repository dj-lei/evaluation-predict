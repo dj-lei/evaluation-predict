{
 "cells": [
  {
   "cell_type": "code",
   "execution_count": 1,
   "metadata": {},
   "outputs": [],
   "source": [
    "import math\n",
    "import os\n",
    "import gc\n",
    "import re\n",
    "import sys\n",
    "import time\n",
    "import json\n",
    "import random\n",
    "import datetime\n",
    "import traceback\n",
    "import pickle\n",
    "import pandas as pd\n",
    "import numpy as np\n",
    "\n",
    "import seaborn as sns\n",
    "import matplotlib.pyplot as plt\n",
    "from scipy.optimize import leastsq\n",
    "import numpy as np"
   ]
  },
  {
   "cell_type": "code",
   "execution_count": 4,
   "metadata": {},
   "outputs": [],
   "source": [
    "model_global_mean = pd.read_csv('../tmp/train/model_global_mean.csv')\n",
    "div_province = pd.read_csv('../tmp/train/div_province.csv')\n",
    "div_warehouse = pd.read_csv('../tmp/train/div_warehouse.csv')\n",
    "div_mile = pd.read_csv('../tmp/train/div_mile.csv')"
   ]
  },
  {
   "cell_type": "code",
   "execution_count": 15,
   "metadata": {},
   "outputs": [
    {
     "name": "stdout",
     "output_type": "stream",
     "text": [
      "median_price 9.658\n",
      "province_price 0.0\n",
      "warehouse_price 0.06856609806397602\n",
      "mile_price -0.004627078536066885\n",
      "final_price 9.721939019527907\n"
     ]
    }
   ],
   "source": [
    "model_detail_slug = '110158_autotis'\n",
    "province = '四川'\n",
    "warehouse = 1\n",
    "mile = 2 / 12\n",
    "\n",
    "median_price = model_global_mean.loc[(model_global_mean['model_detail_slug'] == model_detail_slug), 'predict_price'].values[0]\n",
    "print('median_price', median_price)\n",
    "\n",
    "province_price = div_province.loc[(div_province['province'] == province), 'price_div'].values[0] \n",
    "print('province_price', province_price)\n",
    "\n",
    "k = div_warehouse.loc[0, ['k']].values[0]\n",
    "warehouse_price = k * warehouse\n",
    "print('warehouse_price', warehouse_price)\n",
    "\n",
    "k, b = div_mile.loc[0, ['k', 'b']].values\n",
    "mile_price = k * mile + b\n",
    "print('mile_price', mile_price)\n",
    "\n",
    "final_price = median_price + province_price + warehouse_price + mile_price\n",
    "print('final_price', final_price)"
   ]
  },
  {
   "cell_type": "code",
   "execution_count": 7,
   "metadata": {},
   "outputs": [
    {
     "data": {
      "text/plain": [
       "5       NaN\n",
       "26219   NaN\n",
       "26220   NaN\n",
       "dtype: float64"
      ]
     },
     "execution_count": 7,
     "metadata": {},
     "output_type": "execute_result"
    }
   ],
   "source": [
    "final_price"
   ]
  },
  {
   "cell_type": "code",
   "execution_count": null,
   "metadata": {},
   "outputs": [],
   "source": []
  }
 ],
 "metadata": {
  "kernelspec": {
   "display_name": "Python 3",
   "language": "python",
   "name": "python3"
  },
  "language_info": {
   "codemirror_mode": {
    "name": "ipython",
    "version": 3
   },
   "file_extension": ".py",
   "mimetype": "text/x-python",
   "name": "python",
   "nbconvert_exporter": "python",
   "pygments_lexer": "ipython3",
   "version": "3.5.2"
  }
 },
 "nbformat": 4,
 "nbformat_minor": 2
}
